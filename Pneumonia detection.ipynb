{
 "cells": [
  {
   "cell_type": "markdown",
   "id": "b42ce470",
   "metadata": {},
   "source": [
    "# Beginning\n",
    "This is the first part of the code here we load the path where data exists and assigns the labels for the categories. This problem consist two categories namely Normal and Pneumonia Here we assign 0-Normal 1-Pneumonia"
   ]
  },
  {
   "cell_type": "code",
   "execution_count": 22,
   "id": "847e0628",
   "metadata": {},
   "outputs": [
    {
     "name": "stdout",
     "output_type": "stream",
     "text": [
      "['Normal', 'Pneumonia']\n",
      "[0, 1]\n",
      "{'Normal': 0, 'Pneumonia': 1}\n"
     ]
    }
   ],
   "source": [
    "import cv2 as cv\n",
    "import os\n",
    "\n",
    "dataPath=\"C:\\\\Users\\\\ELCOT\\\\Pneumonia Detection using Deep learning\\\\Chestimages\"\n",
    "Categories=os.listdir(dataPath)\n",
    "\n",
    "labels = [i for i in range(len(Categories))]\n",
    "labeldict={}\n",
    "for i in range(len(Categories)):\n",
    "    labeldict[Categories[i]]=labels[i]\n",
    "print(Categories)\n",
    "print(labels)\n",
    "print(labeldict)"
   ]
  },
  {
   "cell_type": "markdown",
   "id": "41bc05f0",
   "metadata": {},
   "source": [
    "# Preparing the Images\n",
    "In this part of the code we prepare the images for processing. We read,resize the images convert them to gray and append them to the empty python list. Here we add a exception to remove the corupted images.\n"
   ]
  },
  {
   "cell_type": "code",
   "execution_count": 23,
   "id": "136c8edf",
   "metadata": {},
   "outputs": [],
   "source": [
    "imageSize=128\n",
    "Dataset=[]\n",
    "\n",
    "for Category in Categories:\n",
    "    folderPath=os.path.join(dataPath,Category)\n",
    "    #print(folderPath)\n",
    "    imageNames=os.listdir(folderPath)\n",
    "    #print(imageNames)\n",
    "    \n",
    "    for imageName in imageNames:\n",
    "        imagePath=os.path.join(folderPath,imageName)\n",
    "         #print(imagePath)\n",
    "        image=cv.imread(imagePath)\n",
    "        \n",
    "        try:\n",
    "            grayImage = cv.cvtColor(image,cv.COLOR_BGR2GRAY)\n",
    "            resized=cv.resize(grayImage,(imageSize,imageSize))\n",
    "            Dataset.append([resized,labeldict[Category]])\n",
    "            \n",
    "        except Exception as e:\n",
    "            print(e)"
   ]
  },
  {
   "cell_type": "markdown",
   "id": "8e2f3cd3",
   "metadata": {},
   "source": [
    "# Shuffling the dataset\n",
    "The first half of the dataset contains normal images, the second half pneumonia images. Shuffling is necessary here, otherwise the Neural Network will not see the two categories in the initial part of the training."
   ]
  },
  {
   "cell_type": "code",
   "execution_count": 27,
   "id": "395bd449",
   "metadata": {},
   "outputs": [
    {
     "name": "stdout",
     "output_type": "stream",
     "text": [
      "5933\n"
     ]
    }
   ],
   "source": [
    "print(len(Dataset))\n",
    "from random import shuffle\n",
    "\n",
    "shuffle(Dataset)"
   ]
  },
  {
   "cell_type": "markdown",
   "id": "79bb530d",
   "metadata": {},
   "source": [
    "Here we append the data python list from the features,here the feature is the resized image and target as the label."
   ]
  },
  {
   "cell_type": "code",
   "execution_count": 28,
   "id": "8efcc721",
   "metadata": {},
   "outputs": [],
   "source": [
    "data=[]\n",
    "target=[]\n",
    "\n",
    "for feature,label in Dataset:\n",
    "    \n",
    "    data.append(feature)\n",
    "    target.append(label)"
   ]
  },
  {
   "cell_type": "markdown",
   "id": "d4bf4f51",
   "metadata": {},
   "source": [
    "# data and target preprocessing\n",
    "We convert the data and target into a numpy array to further processing.\n",
    "In data we divide all pixels by 255 to get all pixel values between 0-1. We reshape the data because the CNNs require 4 dimensional input, therefore we add the dimension 1, this is to represent grayscale image, for color images you may have to use 3. And we convert the target using np_utils.to_categorical to make the categorical representation."
   ]
  },
  {
   "cell_type": "code",
   "execution_count": 29,
   "id": "6d3204ae",
   "metadata": {},
   "outputs": [
    {
     "name": "stdout",
     "output_type": "stream",
     "text": [
      "(5933, 128, 128)\n",
      "(5933, 128, 128, 1)\n",
      "(5933,)\n"
     ]
    }
   ],
   "source": [
    "import numpy as np\n",
    "data=np.array(data)/255\n",
    "print(data.shape)\n",
    "data=np.reshape(data,(data.shape[0],imageSize,imageSize,1))\n",
    "target=np.array(target)\n",
    "#print(target)\n",
    "#print(data.shape)\n",
    "print(data.shape)\n",
    "print(target.shape)\n",
    "from keras.utils import np_utils\n",
    "\n",
    "newTarget=np_utils.to_categorical(target)\n",
    "#print(newTarget)"
   ]
  },
  {
   "cell_type": "markdown",
   "id": "1ab47284",
   "metadata": {},
   "source": [
    "# Saving data & the target"
   ]
  },
  {
   "cell_type": "code",
   "execution_count": 30,
   "id": "484ddc7a",
   "metadata": {},
   "outputs": [],
   "source": [
    "np.save('dataChestXray',data)\n",
    "np.save('targetChestXray',newTarget)\n"
   ]
  },
  {
   "cell_type": "markdown",
   "id": "1ab7d961",
   "metadata": {},
   "source": [
    "# Loading the saved data & target"
   ]
  },
  {
   "cell_type": "code",
   "execution_count": 31,
   "id": "9723f326",
   "metadata": {},
   "outputs": [
    {
     "name": "stdout",
     "output_type": "stream",
     "text": [
      "(128, 128, 1)\n"
     ]
    }
   ],
   "source": [
    "import numpy as np\n",
    "\n",
    "data=np.load('dataChestXray.npy')\n",
    "target=np.load('targetChestXray.npy')\n",
    "print(data.shape[1:])"
   ]
  },
  {
   "cell_type": "markdown",
   "id": "dfb90091",
   "metadata": {},
   "source": [
    "# CNN Architecture"
   ]
  },
  {
   "cell_type": "code",
   "execution_count": 32,
   "id": "70f1c314",
   "metadata": {},
   "outputs": [],
   "source": [
    "from keras.models import Sequential\n",
    "from keras.layers import Dense,Activation,Flatten,Dropout\n",
    "from keras.layers import Conv2D,MaxPooling2D\n",
    "\n",
    "model=Sequential()\n",
    "\n",
    "model.add(Conv2D(32,(3,3),input_shape=data.shape[1:]))\n",
    "model.add(Activation('relu'))\n",
    "model.add(MaxPooling2D(pool_size=(2,2)))\n",
    "model.add(Dropout(0.5))\n",
    "\n",
    "model.add(Conv2D(32,(3,3)))\n",
    "model.add(Activation('relu'))\n",
    "model.add(MaxPooling2D(pool_size=(2,2)))\n",
    "model.add(Dropout(0.5))\n",
    "\n",
    "model.add(Conv2D(64,(3,3)))\n",
    "model.add(Activation('relu'))\n",
    "model.add(MaxPooling2D(pool_size=(2,2)))\n",
    "model.add(Dropout(0.5))\n",
    "\n",
    "model.add(Flatten())\n",
    "\n",
    "model.add(Dense(128,activation='relu'))\n",
    "model.add(Dropout(0.5))\n",
    "model.add(Dense(2,activation='softmax'))\n",
    "\n",
    "model.compile(loss='categorical_crossentropy',optimizer='adam',metrics=['accuracy'])"
   ]
  },
  {
   "cell_type": "markdown",
   "id": "ba37ead0",
   "metadata": {},
   "source": [
    "# Splitting the data and target"
   ]
  },
  {
   "cell_type": "code",
   "execution_count": 33,
   "id": "f4647a29",
   "metadata": {},
   "outputs": [],
   "source": [
    "from sklearn.model_selection import train_test_split\n",
    "\n",
    "train_data,test_data,train_target,test_target=train_test_split(data,target,test_size=0.2)"
   ]
  },
  {
   "cell_type": "markdown",
   "id": "b0f099a3",
   "metadata": {},
   "source": [
    "# Training the data"
   ]
  },
  {
   "cell_type": "code",
   "execution_count": 34,
   "id": "04fd38ec",
   "metadata": {},
   "outputs": [
    {
     "name": "stdout",
     "output_type": "stream",
     "text": [
      "Epoch 1/8\n",
      "149/149 [==============================] - 268s 1s/step - loss: 0.6165 - accuracy: 0.7182\n",
      "Epoch 2/8\n",
      "149/149 [==============================] - 199s 1s/step - loss: 0.3156 - accuracy: 0.8615\n",
      "Epoch 3/8\n",
      "149/149 [==============================] - 196s 1s/step - loss: 0.2908 - accuracy: 0.8872\n",
      "Epoch 4/8\n",
      "149/149 [==============================] - 196s 1s/step - loss: 0.2538 - accuracy: 0.9039\n",
      "Epoch 5/8\n",
      "149/149 [==============================] - 193s 1s/step - loss: 0.2294 - accuracy: 0.9159\n",
      "Epoch 6/8\n",
      "149/149 [==============================] - 188s 1s/step - loss: 0.2073 - accuracy: 0.9314\n",
      "Epoch 7/8\n",
      "149/149 [==============================] - 188s 1s/step - loss: 0.1953 - accuracy: 0.9309\n",
      "Epoch 8/8\n",
      "149/149 [==============================] - 192s 1s/step - loss: 0.1950 - accuracy: 0.9379\n"
     ]
    }
   ],
   "source": [
    "history=model.fit(train_data,train_target,epochs=8)"
   ]
  },
  {
   "cell_type": "code",
   "execution_count": 35,
   "id": "51a29edc",
   "metadata": {},
   "outputs": [
    {
     "data": {
      "text/plain": [
       "[<matplotlib.lines.Line2D at 0x22626aaf070>]"
      ]
     },
     "execution_count": 35,
     "metadata": {},
     "output_type": "execute_result"
    },
    {
     "data": {
      "image/png": "[encoded data removed]",
      "text/plain": [
       "<Figure size 432x288 with 1 Axes>"
      ]
     },
     "metadata": {
      "needs_background": "light"
     },
     "output_type": "display_data"
    }
   ],
   "source": [
    "from matplotlib import pyplot as plt\n",
    "\n",
    "plt.plot(history.history['loss'])\n"
   ]
  },
  {
   "cell_type": "code",
   "execution_count": 36,
   "id": "657366ed",
   "metadata": {},
   "outputs": [
    {
     "data": {
      "text/plain": [
       "[<matplotlib.lines.Line2D at 0x22626b84820>]"
      ]
     },
     "execution_count": 36,
     "metadata": {},
     "output_type": "execute_result"
    },
    {
     "data": {
      "image/png": "[encoded data removed]",
      "text/plain": [
       "<Figure size 432x288 with 1 Axes>"
      ]
     },
     "metadata": {
      "needs_background": "light"
     },
     "output_type": "display_data"
    }
   ],
   "source": [
    "plt.plot(history.history['accuracy'])\n"
   ]
  },
  {
   "cell_type": "code",
   "execution_count": 37,
   "id": "c38b85c2",
   "metadata": {},
   "outputs": [
    {
     "name": "stdout",
     "output_type": "stream",
     "text": [
      "38/38 [==============================] - 22s 448ms/step - loss: 0.1844 - accuracy: 0.9385\n",
      "[0.18439579010009766, 0.9385004043579102]\n"
     ]
    }
   ],
   "source": [
    "print(model.evaluate(test_data,test_target))\n"
   ]
  },
  {
   "cell_type": "code",
   "execution_count": 38,
   "id": "f5300766",
   "metadata": {},
   "outputs": [],
   "source": [
    "model.save(\"Pnemonia_predictions_using_chest_xray_99.20.h5\")"
   ]
  },
  {
   "cell_type": "markdown",
   "id": "f329332d",
   "metadata": {},
   "source": [
    "# Loading the trained cnn"
   ]
  },
  {
   "cell_type": "code",
   "execution_count": 1,
   "id": "b727ea77",
   "metadata": {},
   "outputs": [
    {
     "data": {
      "text/plain": [
       "<keras.engine.sequential.Sequential at 0x297e3749f40>"
      ]
     },
     "execution_count": 1,
     "metadata": {},
     "output_type": "execute_result"
    }
   ],
   "source": [
    "import numpy as np\n",
    "from keras.models import Sequential\n",
    "from keras.layers import Dense,Activation,Flatten,Dropout\n",
    "from keras.layers import Conv2D,MaxPooling2D\n",
    "\n",
    "data=np.load('dataChestXray.npy')\n",
    "target=np.load('targetChestXray.npy')\n",
    "\n",
    "def loadingCNN():\n",
    "    model=Sequential()\n",
    "\n",
    "    model.add(Conv2D(32,(3,3),input_shape=data.shape[1:]))\n",
    "    model.add(Activation('relu'))\n",
    "    model.add(MaxPooling2D(pool_size=(2,2)))\n",
    "    model.add(Dropout(0.5))\n",
    "\n",
    "    model.add(Conv2D(32,(3,3)))\n",
    "    model.add(Activation('relu'))\n",
    "    model.add(MaxPooling2D(pool_size=(2,2)))\n",
    "    model.add(Dropout(0.5))\n",
    "\n",
    "    model.add(Conv2D(64,(3,3)))\n",
    "    model.add(Activation('relu'))\n",
    "    model.add(MaxPooling2D(pool_size=(2,2)))\n",
    "    model.add(Dropout(0.5))\n",
    "\n",
    "    model.add(Flatten())\n",
    "\n",
    "    model.add(Dense(128,activation='relu'))\n",
    "    model.add(Dropout(0.5))\n",
    "    model.add(Dense(2,activation='softmax'))\n",
    "\n",
    "    model.compile(loss='categorical_crossentropy',optimizer='adam',metrics=['accuracy'])\n",
    "    model.load_weights('Pnemonia_predictions_using_chest_xray_99.20.h5')\n",
    "    return model\n",
    "\n",
    "loadingCNN()"
   ]
  },
  {
   "cell_type": "code",
   "execution_count": null,
   "id": "a31af872",
   "metadata": {},
   "outputs": [],
   "source": [
    "import cv2 as cv\n",
    "import os\n",
    "  \n",
    "testPath='C:\\\\Users\\\\ELCOT\\\\Downloads\\\\archive\\\\Coronahack-Chest-XRay-Dataset\\\\test'\n",
    "imageNames=os.listdir(testPath)\n",
    "model=loadingCNN()\n",
    "category={0:'Normal',1:'Pnemonia'}\n",
    "\n",
    "for imageName in imageNames:\n",
    "    imagePath=os.path.join(testPath,imageName)\n",
    "    image=cv.imread(imagePath)\n",
    "    grayImage=cv.cvtColor(image,cv.COLOR_BGR2GRAY)\n",
    "    resized=cv.resize(grayImage,(128,128))\n",
    "    normalized=resized/255\n",
    "    reshaped=np.reshape(normalized,(1,128,128,1))\n",
    "    result=model.predict(reshaped)\n",
    "    label=np.argmax(result,axis=1)[0]\n",
    "    prob=np.max(result,axis=1)[0]\n",
    "    prob=round(prob,2)*100\n",
    "#image[:50,:]=[0,255,0]\n",
    "    cv.putText(image,str(category[label]),(100,100),cv.FONT_HERSHEY_SIMPLEX,3,(255,255,255),2)\n",
    "    cv.putText(image,str(prob),(100,200),cv.FONT_HERSHEY_SIMPLEX,3,(255,255,255),2)\n",
    "    cv.imshow('LIVE',image)\n",
    "    cv.waitKey(5000)\n",
    "    print(result)"
   ]
  },
  {
   "cell_type": "code",
   "execution_count": null,
   "id": "7f01e749",
   "metadata": {},
   "outputs": [],
   "source": []
  }
 ],
 "metadata": {
  "kernelspec": {
   "display_name": "Python 3",
   "language": "python",
   "name": "python3"
  },
  "language_info": {
   "codemirror_mode": {
    "name": "ipython",
    "version": 3
   },
   "file_extension": ".py",
   "mimetype": "text/x-python",
   "name": "python",
   "nbconvert_exporter": "python",
   "pygments_lexer": "ipython3",
   "version": "3.8.8"
  }
 },
 "nbformat": 4,
 "nbformat_minor": 5
}
